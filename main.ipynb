{
    "cells": [
        {
            "cell_type": "code",
            "execution_count": null,
            "metadata": {},
            "outputs": [],
            "source": [
                "from sklearn.model_selection import train_test_split\n",
                "from sklearn.ensemble import GradientBoostingClassifier\n",
                "from sklearn.metrics import confusion_matrix\n",
                "import pandas as pd\n",
                "import os"
            ]
        },
        {
            "cell_type": "code",
            "execution_count": null,
            "metadata": {},
            "outputs": [],
            "source": [
                "\n",
                "\n",
                "# mostrar o caminho completo do arquivo\n",
                "caminho_dataset = os.path.join(os.path.dirname(\n",
                "    __file__), 'datasets', 'parkinsons.data')\n",
                "\n",
                "# carregar a base de dados e colocar na variável df\n",
                "df = pd.read_csv(caminho_dataset)\n",
                "\n",
                "# colocar as outras colunas para prever o y\n",
                "X = df.drop(['status', 'name', 'APQ', 'D2',\n",
                "            'Fhi(Hz)', 'Flo(Hz)', 'Fo(Hz)',\n",
                "             'PPQ', 'RAP', 'spread1', 'spread2'], axis=1)\n",
                "\n",
                "# colocar a coluna a ser prevista em y\n",
                "y = df['status']\n",
                "\n",
                "# dividir as informações de x e y em treino e teste em uma proporção de (0.75) e (0.25)\n",
                "X_treino, X_teste, y_treino, y_teste = train_test_split(\n",
                "    X, y, test_size=0.2)\n",
                "\n",
                "# criar o modelo\n",
                "modelo_principal = GradientBoostingClassifier(\n",
                "    learning_rate=0.1, n_estimators=50)\n",
                "\n",
                "# treinar o modelo\n",
                "modelo_principal.fit(X_treino, y_treino)\n"
            ]
        },
        {
            "cell_type": "code",
            "execution_count": null,
            "metadata": {},
            "outputs": [],
            "source": [
                "import matplotlib.pyplot as plt\n",
                "import seaborn as sns\n",
                "\n",
                "# fazer uma previsão do modelo a fins de teste\n",
                "previsao_modelo_principal = modelo_principal.predict(X_teste)\n",
                "\n",
                "# testar a previsão do modelo\n",
                "print(previsao_modelo_principal)\n",
                "\n",
                "# criar uma matriz de confusão\n",
                "matriz_confusao = confusion_matrix(y_teste, previsao_modelo_principal)\n",
                "\n",
                "# plotar um gráfico com os (TP, FP, TN, FN)\n",
                "sns.heatmap(matriz_confusao, annot=True, fmt='d',\n",
                "            cmap='Blues')\n",
                "plt.xlabel('Previsão do Modelo')\n",
                "plt.ylabel('Dados Reais')\n",
                "plt.title('Matriz de Confusão')\n",
                "plt.show()\n",
                "\n"
            ]
        },
        {
            "cell_type": "code",
            "execution_count": null,
            "metadata": {},
            "outputs": [],
            "source": [
                "\n",
                "# mostra o caminho do arquivo\n",
                "caminho_dataset_atualizado = os.path.join(\n",
                "    os.path.dirname(__file__), 'datasets', 'parkinsons_updrs.data')\n",
                "\n",
                "# carregar a nova base de dados\n",
                "novos_dados = pd.read_csv(caminho_dataset_atualizado)\n",
                "\n",
                "# criar um df com informações úteis no final mas inúteis para a IA\n",
                "previsao_final = novos_dados[['subject#', 'age', 'sex', 'test_time']]\n",
                "\n",
                "# tirar as informações não foram treinadas\n",
                "novos_dados = novos_dados.drop(\n",
                "    ['subject#', 'age', 'sex', 'test_time', 'motor_UPDRS', 'total_UPDRS', 'Jitter:PPQ5',\n",
                "     'Jitter:RAP', 'Shimmer:APQ11'], axis=1)\n",
                "\n",
                "# calcular as probabilidades da pessoa ter parkinson pegando somente a classe 1 (ter parkinson)\n",
                "probabilidade_novos_dados = (modelo_principal.predict_proba(novos_dados)[\n",
                "    :, 1]*100).round(2)\n",
                "\n",
                "# criando uma coluna de probabilidades de ter parkinson\n",
                "previsao_final['probabilidade'] = probabilidade_novos_dados\n",
                "\n",
                "# salvar o novo df\n",
                "previsao_final.to_csv('parkinsons_predict.csv', index=False)"
            ]
        }
    ],
    "metadata": {
        "kernelspec": {
            "display_name": "myenv",
            "language": "python",
            "name": "python3"
        },
        "language_info": {
            "name": "python",
            "version": "3.10.12"
        }
    },
    "nbformat": 4,
    "nbformat_minor": 2
}